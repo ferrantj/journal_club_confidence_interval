{
 "cells": [
  {
   "cell_type": "code",
   "execution_count": null,
   "id": "collectible-transition",
   "metadata": {},
   "outputs": [],
   "source": [
    "from IPython.display import clear_output\n",
    "from time import sleep\n",
    "\n",
    "from helpers import run_many_proportion_trials, display_trials, run_single_proportion_trial, display_single_trial, within_confidence_interval"
   ]
  },
  {
   "cell_type": "code",
   "execution_count": null,
   "id": "broad-avenue",
   "metadata": {},
   "outputs": [],
   "source": [
    "true_sensitivity = 0.7\n",
    "num_trials = 50000\n",
    "num_observations = 200\n",
    "confidence = 0.95"
   ]
  },
  {
   "cell_type": "code",
   "execution_count": null,
   "id": "imposed-karma",
   "metadata": {},
   "outputs": [],
   "source": [
    "trials = run_many_proportion_trials(\n",
    "    true_sensitivity,\n",
    "    num_trials=num_trials,\n",
    "    num_observations=num_observations,\n",
    ")"
   ]
  },
  {
   "cell_type": "markdown",
   "id": "later-packet",
   "metadata": {},
   "source": [
    "# Trial Distribution"
   ]
  },
  {
   "cell_type": "code",
   "execution_count": null,
   "id": "tribal-invite",
   "metadata": {},
   "outputs": [],
   "source": [
    "display_trials(\n",
    "    trials,\n",
    "    true_value=true_sensitivity,\n",
    "    percentile_bounds=confidence,\n",
    ")"
   ]
  },
  {
   "cell_type": "markdown",
   "id": "dimensional-setup",
   "metadata": {},
   "source": [
    "# Run Trial With Observed Value"
   ]
  },
  {
   "cell_type": "code",
   "execution_count": null,
   "id": "destroyed-demonstration",
   "metadata": {},
   "outputs": [],
   "source": [
    "single_trial = run_single_proportion_trial(\n",
    "    true_sensitivity,\n",
    "    num_observations=num_observations,\n",
    ")\n",
    "display_single_trial(\n",
    "    single_trial,\n",
    "    confidence=confidence,\n",
    "    true_value=true_sensitivity,\n",
    "    #distribution=trials,\n",
    ")"
   ]
  },
  {
   "cell_type": "markdown",
   "id": "sitting-baker",
   "metadata": {},
   "source": [
    "# P-hacking"
   ]
  },
  {
   "cell_type": "code",
   "execution_count": null,
   "id": "entire-titanium",
   "metadata": {},
   "outputs": [],
   "source": [
    "single_trial = (true_sensitivity, 0.1)\n",
    "\n",
    "count = 0\n",
    "while within_confidence_interval(single_trial, true_sensitivity, confidence):\n",
    "    single_trial = run_single_proportion_trial(\n",
    "        true_sensitivity,\n",
    "        num_observations=num_observations,\n",
    "    )\n",
    "    sleep(0.5)\n",
    "    clear_output()\n",
    "    print(f'trial {count+1}')\n",
    "    display_single_trial(\n",
    "        single_trial,\n",
    "        confidence=confidence,\n",
    "        true_value=true_sensitivity,\n",
    "        #distribution=trials,\n",
    "    )\n",
    "    count +=1\n",
    "\n",
    "clear_output()\n",
    "print(f'Ran {count} trials')\n",
    "display_single_trial(\n",
    "    single_trial,\n",
    "    confidence=confidence,\n",
    "    true_value=true_sensitivity,\n",
    "    #distribution=trials,\n",
    ")"
   ]
  },
  {
   "cell_type": "code",
   "execution_count": null,
   "id": "surprised-replica",
   "metadata": {},
   "outputs": [],
   "source": []
  }
 ],
 "metadata": {
  "kernelspec": {
   "display_name": "Python 3",
   "language": "python",
   "name": "python3"
  },
  "language_info": {
   "codemirror_mode": {
    "name": "ipython",
    "version": 3
   },
   "file_extension": ".py",
   "mimetype": "text/x-python",
   "name": "python",
   "nbconvert_exporter": "python",
   "pygments_lexer": "ipython3",
   "version": "3.8.8"
  }
 },
 "nbformat": 4,
 "nbformat_minor": 5
}
