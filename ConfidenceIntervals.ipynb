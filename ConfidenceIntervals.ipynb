{
 "cells": [
  {
   "cell_type": "code",
   "execution_count": null,
   "id": "collectible-transition",
   "metadata": {},
   "outputs": [],
   "source": [
    "import numpy as np\n",
    "import scipy.stats as st\n",
    "import random\n",
    "from matplotlib import pyplot as plt"
   ]
  },
  {
   "cell_type": "code",
   "execution_count": null,
   "id": "broad-avenue",
   "metadata": {},
   "outputs": [],
   "source": [
    "true_sensitivity = 0.7\n",
    "num_trials = 50000\n",
    "num_observations = 200\n",
    "confidence_interval = 0.95"
   ]
  },
  {
   "cell_type": "code",
   "execution_count": null,
   "id": "imposed-karma",
   "metadata": {},
   "outputs": [],
   "source": [
    "observed_sensitivity = []\n",
    "for _ in range(num_trials):\n",
    "    trial = [random.random() < true_sensitivity for _ in range(num_observations)]\n",
    "    sensitivity = np.mean(trial)\n",
    "    observed_sensitivity.append(sensitivity)\n",
    "observed_sensitivity.sort()"
   ]
  },
  {
   "cell_type": "code",
   "execution_count": null,
   "id": "tribal-invite",
   "metadata": {},
   "outputs": [],
   "source": [
    "plt.axvline(true_sensitivity, color='k', linestyle='dashed', linewidth=1, label='True Sensitivity')\n",
    "plt.axvline(observed_sensitivity[int(num_observations * confidence_interval)], color='r', linestyle='dashed', linewidth=1, label=f'{int(confidence_interval*100)}th percentile')\n",
    "plt.axvline(observed_sensitivity[-int(num_observations * confidence_interval)], color='r', linestyle='dashed', linewidth=1)\n",
    "plt.hist(observed_sensitivity)\n",
    "plt.legend()\n",
    "plt.show()"
   ]
  },
  {
   "cell_type": "code",
   "execution_count": null,
   "id": "destroyed-demonstration",
   "metadata": {},
   "outputs": [],
   "source": [
    "single_trial = [random.random() < true_sensitivity for _ in range(num_observations)]\n",
    "trial_sensitivity = np.mean(single_trial)\n",
    "std_dev = np.std(single_trial, dtype=np.float64)\n",
    "std_error = std_dev/np.sqrt(len(single_trial))\n",
    "\n",
    "plt.hist(observed_sensitivity)\n",
    "plt.axvline(true_sensitivity, color='k', linestyle='dashed', linewidth=1, label='True Sensitivity')\n",
    "plt.axvline(trial_sensitivity, color='orange', linestyle='dashed', linewidth=1, label='Observed Sensitivity')\n",
    "plt.axvline(trial_sensitivity + std_error * st.norm.ppf((confidence_interval+1)/2), color='r', linestyle='dashed', linewidth=1, label=f'{int(confidence_interval*100)}th percentile')\n",
    "plt.axvline(trial_sensitivity - std_error * st.norm.ppf((confidence_interval+1)/2), color='r', linestyle='dashed', linewidth=1)\n",
    "plt.legend()\n",
    "plt.show()\n"
   ]
  },
  {
   "cell_type": "code",
   "execution_count": null,
   "id": "entire-titanium",
   "metadata": {},
   "outputs": [],
   "source": []
  }
 ],
 "metadata": {
  "kernelspec": {
   "display_name": "Python 3",
   "language": "python",
   "name": "python3"
  },
  "language_info": {
   "codemirror_mode": {
    "name": "ipython",
    "version": 3
   },
   "file_extension": ".py",
   "mimetype": "text/x-python",
   "name": "python",
   "nbconvert_exporter": "python",
   "pygments_lexer": "ipython3",
   "version": "3.8.8"
  }
 },
 "nbformat": 4,
 "nbformat_minor": 5
}
